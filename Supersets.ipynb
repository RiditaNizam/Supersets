{
  "nbformat": 4,
  "nbformat_minor": 0,
  "metadata": {
    "colab": {
      "name": "Supersets.ipynb",
      "provenance": [],
      "collapsed_sections": [],
      "authorship_tag": "ABX9TyOlE2LcKj4DxbWuu4vr4Rmj",
      "include_colab_link": true
    },
    "kernelspec": {
      "name": "python3",
      "display_name": "Python 3"
    },
    "language_info": {
      "name": "python"
    }
  },
  "cells": [
    {
      "cell_type": "markdown",
      "metadata": {
        "id": "view-in-github",
        "colab_type": "text"
      },
      "source": [
        "<a href=\"https://colab.research.google.com/github/RiditaNizam/Supersets/blob/main/Supersets.ipynb\" target=\"_parent\"><img src=\"https://colab.research.google.com/assets/colab-badge.svg\" alt=\"Open In Colab\"/></a>"
      ]
    },
    {
      "cell_type": "code",
      "metadata": {
        "colab": {
          "base_uri": "https://localhost:8080/"
        },
        "id": "ZdzL4_W8_u_2",
        "outputId": "233c9898-f80e-437e-e749-fb8cc8cdbbc2"
      },
      "source": [
        "group1 = {\"coral\", \"white\", \"turquoise\"}\n",
        "group2 = {\"coral\", \"white\", \"turquoise\", \"black\"}\n",
        "\n",
        "#Using built-in method\n",
        "subset_check = group1.issuperset(group2)\n",
        "print(\"All elements in group1 are in group2:\", subset_check)\n",
        "\n",
        "#Using greater than or equal to\n",
        "greaterthanequalsubset = group1 >= group2\n",
        "print(\"All elements in group1 are in group2:\", greaterthanequalsubset)"
      ],
      "execution_count": 9,
      "outputs": [
        {
          "output_type": "stream",
          "text": [
            "All elements in group1 are in group2: False\n",
            "All elements in group1 are in group2: False\n"
          ],
          "name": "stdout"
        }
      ]
    }
  ]
}